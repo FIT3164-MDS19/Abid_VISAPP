{
 "cells": [
  {
   "cell_type": "code",
   "execution_count": 2,
   "metadata": {},
   "outputs": [],
   "source": [
    "import pytorch_lightning\n",
    "from pytorchvideo.data import LabeledVideoDataset, UniformClipSampler, RandomClipSampler\n",
    "from torch.utils.data import DataLoader\n",
    "from torchvision.transforms import Compose, Lambda, RandomCrop, RandomHorizontalFlip\n",
    "from transforms import (\n",
    "    ApplyTransformToKey,\n",
    "    UniformTemporalSubsample,\n",
    "    Normalize,\n",
    "    RandomShortSideScale,\n",
    ")"
   ]
  },
  {
   "cell_type": "code",
   "execution_count": 3,
   "metadata": {},
   "outputs": [],
   "source": [
    "import csv \n",
    "def read_csv_to_list_of_tuples(filename: str):\n",
    "    data = []\n",
    "\n",
    "    with open(filename, 'r') as file:\n",
    "        reader = csv.reader(file)\n",
    "        for row in reader:\n",
    "            # Assuming the first column contains file paths and the second column contains labels\n",
    "            filepath = row[0]\n",
    "            label = row[1]\n",
    "            data.append((filepath, {\"label\": int(label)}))\n",
    "\n",
    "    return data"
   ]
  },
  {
   "cell_type": "code",
   "execution_count": 4,
   "metadata": {},
   "outputs": [],
   "source": [
    "class DataModule(pytorch_lightning.LightningDataModule):\n",
    "    def __init__(self, clip_duration=60, batch_size=8, num_workers=8) -> None:\n",
    "        super().__init__()\n",
    "        self.CLIP_DURATION = clip_duration\n",
    "        self.BATCH_SIZE = batch_size\n",
    "        self.NUM_WORKERS = num_workers\n",
    "        self.transform = Compose(\n",
    "            [\n",
    "                ApplyTransformToKey(\n",
    "                    key=\"video\",\n",
    "                    transform=Compose(\n",
    "                        [\n",
    "                            UniformTemporalSubsample(8),\n",
    "                            Lambda(lambda x: x / 255.0),\n",
    "                            Normalize((0.45, 0.45, 0.45),\n",
    "                                      (0.225, 0.225, 0.225)),\n",
    "                            RandomShortSideScale(min_size=256, max_size=320),\n",
    "                            RandomCrop(244),\n",
    "                            RandomHorizontalFlip(p=0.5),\n",
    "                        ]\n",
    "                    ),\n",
    "                ),\n",
    "            ]\n",
    "        )\n",
    "\n",
    "    def train_dataloader(self):\n",
    "        train_dataset = LabeledVideoDataset(\n",
    "            labeled_video_paths=read_csv_to_list_of_tuples(\"train.csv\"),\n",
    "            clip_sampler=UniformClipSampler(self.CLIP_DURATION),\n",
    "            decode_audio=False,\n",
    "            transform=self.transform\n",
    "        )\n",
    "\n",
    "        return DataLoader(dataset=train_dataset, batch_size=self.BATCH_SIZE)\n",
    "\n",
    "    def val_dataloader(self):\n",
    "        val_dataset = LabeledVideoDataset(\n",
    "            labeled_video_paths=read_csv_to_list_of_tuples(\"val.csv\"),\n",
    "            clip_sampler=UniformClipSampler(self.CLIP_DURATION),\n",
    "            decode_audio=False,\n",
    "            transform=self.transform\n",
    "        )\n",
    "\n",
    "        return DataLoader(dataset=val_dataset, batch_size=self.BATCH_SIZE)"
   ]
  },
  {
   "cell_type": "code",
   "execution_count": 5,
   "metadata": {},
   "outputs": [],
   "source": [
    "import timm\n",
    "model_name = 'inception_v4'\n",
    "model = timm.create_model(model_name, pretrained=False)"
   ]
  },
  {
   "cell_type": "code",
   "execution_count": 6,
   "metadata": {},
   "outputs": [],
   "source": [
    "import torch\n",
    "import torch.nn as nn\n",
    "import torch.nn.functional as F"
   ]
  },
  {
   "cell_type": "code",
   "execution_count": 7,
   "metadata": {},
   "outputs": [],
   "source": [
    "class VideoClassificationLightningModule(pytorch_lightning.LightningModule):\n",
    "  def __init__(self):\n",
    "    super().__init__()\n",
    "    self.model = model\n",
    "\n",
    "  def forward(self, x):\n",
    "    return self.model(x)\n",
    "\n",
    "  def training_step(self, batch, batch_idx):\n",
    "    y_hat = self.model(batch[\"video\"])\n",
    "    loss = F.cross_entropy(y_hat, torch.Tensor(batch[\"label\"]))\n",
    "    self.log(\"train_loss\", loss.item())\n",
    "\n",
    "    return loss\n",
    "  \n",
    "  def validation_step(self, batch, batch_idx):\n",
    "      y_hat = self.model(batch[\"video\"])\n",
    "      loss = F.cross_entropy(y_hat, torch.tensor(batch[\"label\"]))\n",
    "      self.log(\"val_loss\", loss)\n",
    "      return loss\n",
    "\n",
    "  def configure_optimizers(self):\n",
    "      return torch.optim.Adam(self.parameters(), lr=1e-1)"
   ]
  },
  {
   "cell_type": "code",
   "execution_count": null,
   "metadata": {},
   "outputs": [],
   "source": [
    "classification_module = VideoClassificationLightningModule()\n",
    "data_module = DataModule()\n",
    "trainer = pytorch_lightning.Trainer(max_epochs=10)\n",
    "trainer.fit(classification_module, data_module)"
   ]
  }
 ],
 "metadata": {
  "kernelspec": {
   "display_name": "SSBD",
   "language": "python",
   "name": "python3"
  },
  "language_info": {
   "codemirror_mode": {
    "name": "ipython",
    "version": 3
   },
   "file_extension": ".py",
   "mimetype": "text/x-python",
   "name": "python",
   "nbconvert_exporter": "python",
   "pygments_lexer": "ipython3",
   "version": "3.8.18"
  }
 },
 "nbformat": 4,
 "nbformat_minor": 2
}
